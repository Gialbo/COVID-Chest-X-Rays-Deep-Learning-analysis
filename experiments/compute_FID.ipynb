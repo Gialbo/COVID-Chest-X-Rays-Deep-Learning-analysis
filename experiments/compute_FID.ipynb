{
  "nbformat": 4,
  "nbformat_minor": 0,
  "metadata": {
    "accelerator": "GPU",
    "colab": {
      "name": "compute_FID.ipynb",
      "provenance": [],
      "collapsed_sections": [],
      "include_colab_link": true
    },
    "kernelspec": {
      "display_name": "Python 3",
      "name": "python3"
    },
    "language_info": {
      "name": "python"
    }
  },
  "cells": [
    {
      "cell_type": "markdown",
      "metadata": {
        "id": "view-in-github",
        "colab_type": "text"
      },
      "source": [
        "<a href=\"https://colab.research.google.com/github/Gialbo/COVID-Chest-X-Rays-Deep-Learning-analysis/blob/main/experiments/compute_FID.ipynb\" target=\"_parent\"><img src=\"https://colab.research.google.com/assets/colab-badge.svg\" alt=\"Open In Colab\"/></a>"
      ]
    },
    {
      "cell_type": "markdown",
      "metadata": {
        "id": "Aitd381ZwrSg"
      },
      "source": [
        "# Import libraries and data"
      ]
    },
    {
      "cell_type": "code",
      "metadata": {
        "colab": {
          "base_uri": "https://localhost:8080/"
        },
        "id": "fsjh-gd1rKfa",
        "outputId": "3a446172-a8d0-44ee-ec16-63f11509faf3"
      },
      "source": [
        "# IMPORT AND MOUNT DRIVE\n",
        "import numpy as np\n",
        "from numpy.random import randint\n",
        "from keras.applications.inception_v3 import InceptionV3\n",
        "import matplotlib.pyplot as plt\n",
        "import tensorflow as tf\n",
        "import os\n",
        "import os.path\n",
        "import sys\n",
        "from google.colab import drive\n",
        "drive.mount('/content/drive')"
      ],
      "execution_count": null,
      "outputs": [
        {
          "output_type": "stream",
          "text": [
            "Mounted at /content/drive\n"
          ],
          "name": "stdout"
        }
      ]
    },
    {
      "cell_type": "code",
      "metadata": {
        "colab": {
          "base_uri": "https://localhost:8080/"
        },
        "id": "20CQ34pzzfmE",
        "outputId": "973ad838-0503-4840-f50f-eddce6407621"
      },
      "source": [
        "# CLONE GITHUB REPOSITORY\n",
        "!rm -r \"COVID-Chest-X-Rays-Deep-Learning-analysis\"\n",
        "!git clone https://github.com/Gialbo/COVID-Chest-X-Rays-Deep-Learning-analysis.git"
      ],
      "execution_count": null,
      "outputs": [
        {
          "output_type": "stream",
          "text": [
            "rm: cannot remove 'COVID-Chest-X-Rays-Deep-Learning-analysis': No such file or directory\n",
            "Cloning into 'COVID-Chest-X-Rays-Deep-Learning-analysis'...\n",
            "remote: Enumerating objects: 1293, done.\u001b[K\n",
            "remote: Counting objects: 100% (704/704), done.\u001b[K\n",
            "remote: Compressing objects: 100% (537/537), done.\u001b[K\n",
            "remote: Total 1293 (delta 434), reused 384 (delta 167), pack-reused 589\u001b[K\n",
            "Receiving objects: 100% (1293/1293), 110.36 MiB | 26.14 MiB/s, done.\n",
            "Resolving deltas: 100% (697/697), done.\n"
          ],
          "name": "stdout"
        }
      ]
    },
    {
      "cell_type": "code",
      "metadata": {
        "id": "Vc3VdSUczf8U"
      },
      "source": [
        "# LOAD DIRECTORIES\n",
        "sys.path.append('COVID-Chest-X-Rays-Deep-Learning-analysis/models')\n",
        "sys.path.append('COVID-Chest-X-Rays-Deep-Learning-analysis/tools')"
      ],
      "execution_count": null,
      "outputs": []
    },
    {
      "cell_type": "code",
      "metadata": {
        "colab": {
          "base_uri": "https://localhost:8080/"
        },
        "id": "_-CRg7Cc_UFs",
        "outputId": "29a18a18-1255-40e6-a4eb-c7aa1844ed9c"
      },
      "source": [
        "# LOAD VALIDATION DATA\n",
        "\n",
        "from XRaysDataset import XRaysDataset\n",
        "\n",
        "dataset = XRaysDataset(batch_size=383, dir='/content/drive/MyDrive/BIOINF/covid-project/dataset/test')\n",
        "test_ds, test_size = dataset.load(separate_classes=False)\n",
        "\n",
        "test_covid, test_covid_size = dataset.load(covid_class=True)"
      ],
      "execution_count": null,
      "outputs": [
        {
          "output_type": "stream",
          "text": [
            "Dataset size  383\n",
            "Number of batches for the dataset: 1\n",
            "Number of batches for the covid dataset: 1\n"
          ],
          "name": "stdout"
        }
      ]
    },
    {
      "cell_type": "code",
      "metadata": {
        "colab": {
          "base_uri": "https://localhost:8080/"
        },
        "id": "TK8PuAyvt-0Z",
        "outputId": "e794c932-0236-48f8-f9c4-3cdd671bf138"
      },
      "source": [
        "# Obtain the batch of real images\n",
        "for real_images, _ in test_ds:\n",
        "  pass\n",
        "\n",
        "print(\"Validation set shape: \", real_images.shape)\n",
        "\n",
        "\n",
        "for real_images_covid in test_covid:\n",
        "  pass\n",
        "\n",
        "print(\"Validation set covid shape: \", real_images_covid.shape)\n",
        "\n",
        "batch_size = 383\n",
        "batch_size_covid = 115"
      ],
      "execution_count": null,
      "outputs": [
        {
          "output_type": "stream",
          "text": [
            "Validation set shape:  (383, 128, 128, 1)\n",
            "Validation set covid shape:  (115, 128, 128, 1)\n"
          ],
          "name": "stdout"
        }
      ]
    },
    {
      "cell_type": "markdown",
      "metadata": {
        "id": "w4PXMh0Jw2Ud"
      },
      "source": [
        "# Load the Inception model and FID class"
      ]
    },
    {
      "cell_type": "code",
      "metadata": {
        "id": "uTtFbrDsrlE5",
        "colab": {
          "base_uri": "https://localhost:8080/"
        },
        "outputId": "f1c37f24-b8df-4693-bfb2-ab92ef4b0745"
      },
      "source": [
        "# prepare the inception v3 model\n",
        "from FID import FID\n",
        "evaluation_model = InceptionV3(include_top=False, pooling='avg', input_shape=(299, 299,3))\n",
        "\n",
        "# FID_covid is used when the generative model is able to generate sample from just one class (covid-19)\n",
        "FID_covid = FID(batch_size=batch_size_covid)\n",
        "\n",
        "# FID is used when the generative model is able to generate samples from all the three classes\n",
        "FID = FID(batch_size=batch_size)"
      ],
      "execution_count": null,
      "outputs": [
        {
          "output_type": "stream",
          "text": [
            "Downloading data from https://storage.googleapis.com/tensorflow/keras-applications/inception_v3/inception_v3_weights_tf_dim_ordering_tf_kernels_notop.h5\n",
            "87916544/87910968 [==============================] - 3s 0us/step\n",
            "87924736/87910968 [==============================] - 3s 0us/step\n"
          ],
          "name": "stdout"
        }
      ]
    },
    {
      "cell_type": "markdown",
      "metadata": {
        "id": "39Ibk-lyAxLo"
      },
      "source": [
        "# Compute FID"
      ]
    },
    {
      "cell_type": "markdown",
      "metadata": {
        "id": "38ZXVVOPA2Nd"
      },
      "source": [
        "## Covid-GAN"
      ]
    },
    {
      "cell_type": "code",
      "metadata": {
        "colab": {
          "base_uri": "https://localhost:8080/"
        },
        "id": "jCuXe1tmIUid",
        "outputId": "68c153e2-cb0f-4700-a9e1-1e2ca47ea54b"
      },
      "source": [
        "# LOAD MODEL AND CHECKPOINT FROM DRIVE\n",
        "from covidGAN import covidGAN\n",
        "checkpoint_dir = '/content/drive/MyDrive/BIOINF/checkpoints_GAN/covidGAN' #\n",
        "\n",
        "generative_model = covidGAN()\n",
        "checkpoint = tf.train.Checkpoint(gan_optimizer=generative_model.gan_optimizer,\n",
        "                                    gan=generative_model.gan)\n",
        "\n",
        "latest = tf.train.latest_checkpoint(checkpoint_dir)\n",
        "print(latest)\n",
        "checkpoint.restore(latest)"
      ],
      "execution_count": null,
      "outputs": [
        {
          "output_type": "stream",
          "text": [
            "covidGAN created\n",
            "/content/drive/MyDrive/BIOINF/checkpoints_GAN/covidGAN/ckpt-9\n"
          ],
          "name": "stdout"
        },
        {
          "output_type": "execute_result",
          "data": {
            "text/plain": [
              "<tensorflow.python.training.tracking.util.CheckpointLoadStatus at 0x7f8afd573a10>"
            ]
          },
          "metadata": {
            "tags": []
          },
          "execution_count": 7
        }
      ]
    },
    {
      "cell_type": "code",
      "metadata": {
        "colab": {
          "base_uri": "https://localhost:8080/"
        },
        "id": "sphw_IOPK_Nk",
        "outputId": "c9d88537-a006-48ac-b700-de789d641e79"
      },
      "source": [
        "mean_FID_covidGAN, std_FID_covidGAN = FID_covid.get_FID(generative_model=generative_model, evaluation_model=evaluation_model, real_images=real_images_covid, n_classes=1)\n",
        "print(\"------- covidGAN model -------\")\n",
        "print(\"Mean FID: \", mean_FID_covidGAN)\n",
        "print(\"STD FID: \", std_FID_covidGAN)"
      ],
      "execution_count": null,
      "outputs": [
        {
          "output_type": "stream",
          "text": [
            "Trial  0\n",
            "FID:  309.9657387488619\n",
            "Trial  1\n",
            "FID:  316.2103952979721\n",
            "Trial  2\n",
            "FID:  316.27179276428393\n",
            "Trial  3\n",
            "FID:  314.7765622354287\n",
            "Trial  4\n",
            "FID:  312.0194327125697\n",
            "------- covidGAN model -------\n",
            "Mean FID:  313.84878435182327\n",
            "STD FID:  2.4792546623471305\n"
          ],
          "name": "stdout"
        }
      ]
    },
    {
      "cell_type": "markdown",
      "metadata": {
        "id": "4BtlUiYkA8uC"
      },
      "source": [
        "## Covid-Unet-GAN"
      ]
    },
    {
      "cell_type": "code",
      "metadata": {
        "colab": {
          "base_uri": "https://localhost:8080/"
        },
        "id": "OsS9BToCY2RF",
        "outputId": "609a0ec9-42c7-4f2c-badb-cfef20d3c3bc"
      },
      "source": [
        "# LOAD MODEL AND CHECKPOINT FROM DRIVE\n",
        "from covidUnetGAN import covidUnetGAN\n",
        "checkpoint_dir = '/content/drive/MyDrive/BIOINF/checkpoints_GAN/covidUnetGAN' #\n",
        "\n",
        "generative_model = covidUnetGAN()\n",
        "checkpoint = tf.train.Checkpoint(generator_optimizer=generative_model.model.generator_optimizer,\n",
        "                                  discriminator_optimizer=generative_model.model.discriminator_optimizer,\n",
        "                                  model=generative_model.model)\n",
        "\n",
        "latest = tf.train.latest_checkpoint(checkpoint_dir)\n",
        "print(latest)\n",
        "checkpoint.restore(latest)"
      ],
      "execution_count": null,
      "outputs": [
        {
          "output_type": "stream",
          "text": [
            "covidUnetGAN created\n",
            "/content/drive/MyDrive/BIOINF/checkpoints_GAN/covidUnetGAN/ckpt-9\n"
          ],
          "name": "stdout"
        },
        {
          "output_type": "execute_result",
          "data": {
            "text/plain": [
              "<tensorflow.python.training.tracking.util.CheckpointLoadStatus at 0x7f823952ee50>"
            ]
          },
          "metadata": {
            "tags": []
          },
          "execution_count": 10
        }
      ]
    },
    {
      "cell_type": "code",
      "metadata": {
        "colab": {
          "base_uri": "https://localhost:8080/"
        },
        "id": "Xwm6w0zcY2RQ",
        "outputId": "73c255b7-33a8-49a4-aec4-cf238f919bfe"
      },
      "source": [
        "mean_FID_covidUnetGAN, std_FID_covidUnetGAN = FID_covid.get_FID(generative_model=generative_model, evaluation_model=evaluation_model, real_images=real_images_covid, n_classes=1)\n",
        "print(\"------- covidUnetGAN model -------\")\n",
        "print(\"Mean FID: \", mean_FID_covidUnetGAN)\n",
        "print(\"STD FID: \", std_FID_covidUnetGAN)"
      ],
      "execution_count": null,
      "outputs": [
        {
          "output_type": "stream",
          "text": [
            "Trial  0\n",
            "FID:  193.6458308589422\n",
            "Trial  1\n",
            "FID:  185.35544561407235\n",
            "Trial  2\n",
            "FID:  186.36920222259715\n",
            "Trial  3\n",
            "FID:  184.45509296698285\n",
            "Trial  4\n",
            "FID:  192.57604598782734\n",
            "------- covidUnetGAN model -------\n",
            "Mean FID:  188.48032353008438\n",
            "STD FID:  3.8439975199361602\n"
          ],
          "name": "stdout"
        }
      ]
    },
    {
      "cell_type": "markdown",
      "metadata": {
        "id": "1YI-QVkdA_fM"
      },
      "source": [
        "## cGAN"
      ]
    },
    {
      "cell_type": "code",
      "metadata": {
        "colab": {
          "base_uri": "https://localhost:8080/"
        },
        "id": "Cx0cIapRZGPC",
        "outputId": "42f77cd9-30a7-4af3-9ad3-31ffc73849a4"
      },
      "source": [
        "# LOAD MODEL AND CHECKPOINT FROM DRIVE\n",
        "\n",
        "from cGAN import cGAN\n",
        "checkpoint_dir = '/content/drive/MyDrive/BIOINF/checkpoints_GAN/cGAN' #\n",
        "\n",
        "generative_model = cGAN(use_residual=True)\n",
        "checkpoint = tf.train.Checkpoint(generator_optimizer=generative_model.generator_optimizer,\n",
        "                                    discriminator_optimizer=generative_model.discriminator_optimizer,\n",
        "                                    model=generative_model.model)\n",
        "\n",
        "latest = tf.train.latest_checkpoint(checkpoint_dir)\n",
        "print(latest)\n",
        "checkpoint.restore(latest)"
      ],
      "execution_count": null,
      "outputs": [
        {
          "output_type": "stream",
          "text": [
            "/content/drive/MyDrive/BIOINF/checkpoints_GAN/cGAN/ckpt-11\n"
          ],
          "name": "stdout"
        },
        {
          "output_type": "execute_result",
          "data": {
            "text/plain": [
              "<tensorflow.python.training.tracking.util.CheckpointLoadStatus at 0x7f8239270c90>"
            ]
          },
          "metadata": {
            "tags": []
          },
          "execution_count": 13
        }
      ]
    },
    {
      "cell_type": "code",
      "metadata": {
        "colab": {
          "base_uri": "https://localhost:8080/"
        },
        "id": "TE3x4nIwZGPF",
        "outputId": "1807eac5-4c77-4f2b-a2bd-6ebd5852646c"
      },
      "source": [
        "mean_FID_cGAN, std_FID_cGAN = FID.get_FID(generative_model=generative_model, evaluation_model=evaluation_model, real_images=real_images)\n",
        "print(\"------- cGAN model -------\")\n",
        "print(\"Mean FID: \", mean_FID_cGAN)\n",
        "print(\"STD FID: \", std_FID_cGAN)"
      ],
      "execution_count": null,
      "outputs": [
        {
          "output_type": "stream",
          "text": [
            "Trial  0\n",
            "FID:  80.93746087947187\n",
            "Trial  1\n",
            "FID:  82.6431745070553\n",
            "Trial  2\n",
            "FID:  78.8950117959555\n",
            "Trial  3\n",
            "FID:  80.99389993192827\n",
            "Trial  4\n",
            "FID:  79.77940116708977\n",
            "------- cGAN model -------\n",
            "Mean FID:  80.64978965630014\n",
            "STD FID:  1.2658255202799327\n"
          ],
          "name": "stdout"
        }
      ]
    },
    {
      "cell_type": "markdown",
      "metadata": {
        "id": "SxjR7ziV3jBt"
      },
      "source": [
        "## cGAN - Max Uncertainty"
      ]
    },
    {
      "cell_type": "code",
      "metadata": {
        "colab": {
          "base_uri": "https://localhost:8080/"
        },
        "id": "8RmO-yxd3jBu",
        "outputId": "a0d69974-5b55-4bd4-fe09-9bcb5e8fb76a"
      },
      "source": [
        "# LOAD MODEL AND CHECKPOINT FROM DRIVE\n",
        "\n",
        "from cGAN_Uncertainty import cGANUnc\n",
        "checkpoint_dir = '/content/drive/MyDrive/BIOINF/checkpoints_GAN/cGAN-unc-max' #\n",
        "\n",
        "generative_model = cGANUnc(use_residual=True)\n",
        "checkpoint = tf.train.Checkpoint(generator_optimizer=generative_model.generator_optimizer,\n",
        "                                    discriminator_optimizer=generative_model.discriminator_optimizer,\n",
        "                                    model=generative_model.model)\n",
        "\n",
        "latest = tf.train.latest_checkpoint(checkpoint_dir)\n",
        "print(latest)\n",
        "checkpoint.restore(latest)"
      ],
      "execution_count": null,
      "outputs": [
        {
          "output_type": "stream",
          "text": [
            "/content/drive/MyDrive/BIOINF/checkpoints_GAN/cGAN-unc-max_OLD/ckpt-6\n"
          ],
          "name": "stdout"
        },
        {
          "output_type": "execute_result",
          "data": {
            "text/plain": [
              "<tensorflow.python.training.tracking.util.CheckpointLoadStatus at 0x7f888aca0590>"
            ]
          },
          "metadata": {
            "tags": []
          },
          "execution_count": 15
        }
      ]
    },
    {
      "cell_type": "code",
      "metadata": {
        "colab": {
          "base_uri": "https://localhost:8080/"
        },
        "id": "toIRlHXM3jBv",
        "outputId": "6e6b231c-db05-448b-dcba-e5f15c6e85ba"
      },
      "source": [
        "mean_FID_cGAN, std_FID_cGAN = FID.get_FID(generative_model=generative_model, evaluation_model=evaluation_model, real_images=real_images)\n",
        "print(\"------- cGAN model -------\")\n",
        "print(\"Mean FID: \", mean_FID_cGAN)\n",
        "print(\"STD FID: \", std_FID_cGAN)"
      ],
      "execution_count": null,
      "outputs": [
        {
          "output_type": "stream",
          "text": [
            "Trial  0\n",
            "FID:  62.25240717632714\n",
            "Trial  1\n",
            "FID:  63.70093656933638\n",
            "Trial  2\n",
            "FID:  62.370191615359865\n",
            "Trial  3\n",
            "FID:  61.934819735966485\n",
            "Trial  4\n",
            "FID:  62.67218057109943\n",
            "------- cGAN model -------\n",
            "Mean FID:  62.58610713361786\n",
            "STD FID:  0.6053765364208147\n"
          ],
          "name": "stdout"
        }
      ]
    },
    {
      "cell_type": "markdown",
      "metadata": {
        "id": "bnNZ4kX5vNmV"
      },
      "source": [
        "## cGAN - Min Uncertainty"
      ]
    },
    {
      "cell_type": "code",
      "metadata": {
        "colab": {
          "base_uri": "https://localhost:8080/"
        },
        "id": "Ef4e-Tn9vNmd",
        "outputId": "cdffe489-f0b7-4953-e7d4-06de07da94ae"
      },
      "source": [
        "# LOAD MODEL AND CHECKPOINT FROM DRIVE\n",
        "\n",
        "from cGAN_Uncertainty import cGANUnc\n",
        "checkpoint_dir = '/content/drive/MyDrive/BIOINF/checkpoints_GAN/cGAN_unc_min' #\n",
        "\n",
        "generative_model = cGANUnc(use_residual=True)\n",
        "checkpoint = tf.train.Checkpoint(generator_optimizer=generative_model.generator_optimizer,\n",
        "                                    discriminator_optimizer=generative_model.discriminator_optimizer,\n",
        "                                    model=generative_model.model)\n",
        "\n",
        "latest = tf.train.latest_checkpoint(checkpoint_dir)\n",
        "print(latest)\n",
        "checkpoint.restore(latest)"
      ],
      "execution_count": null,
      "outputs": [
        {
          "output_type": "stream",
          "text": [
            "/content/drive/MyDrive/BIOINF/checkpoints_GAN/cGAN_unc_min/ckpt-11\n"
          ],
          "name": "stdout"
        },
        {
          "output_type": "execute_result",
          "data": {
            "text/plain": [
              "<tensorflow.python.training.tracking.util.CheckpointLoadStatus at 0x7f888b350750>"
            ]
          },
          "metadata": {
            "tags": []
          },
          "execution_count": 11
        }
      ]
    },
    {
      "cell_type": "code",
      "metadata": {
        "colab": {
          "base_uri": "https://localhost:8080/"
        },
        "id": "qU98U0lOvNme",
        "outputId": "bc3b7575-3c4a-4258-9e87-ad9291323a35"
      },
      "source": [
        "mean_FID_cGAN, std_FID_cGAN = FID.get_FID(generative_model=generative_model, evaluation_model=evaluation_model, real_images=real_images)\n",
        "print(\"------- cGAN model -------\")\n",
        "print(\"Mean FID: \", mean_FID_cGAN)\n",
        "print(\"STD FID: \", std_FID_cGAN)"
      ],
      "execution_count": null,
      "outputs": [
        {
          "output_type": "stream",
          "text": [
            "Trial  0\n",
            "FID:  73.23192046742025\n",
            "Trial  1\n",
            "FID:  71.64625870048712\n",
            "Trial  2\n",
            "FID:  71.62457861754154\n",
            "Trial  3\n",
            "FID:  73.96154456096198\n",
            "Trial  4\n",
            "FID:  72.92351735707216\n",
            "------- cGAN model -------\n",
            "Mean FID:  72.67756394069661\n",
            "STD FID:  0.9152900157030532\n"
          ],
          "name": "stdout"
        }
      ]
    },
    {
      "cell_type": "markdown",
      "metadata": {
        "id": "jkMa3d9RBHv9"
      },
      "source": [
        "## Unet-cGAN"
      ]
    },
    {
      "cell_type": "code",
      "metadata": {
        "id": "j1bOlPgWZgtF",
        "colab": {
          "base_uri": "https://localhost:8080/"
        },
        "outputId": "eebf3a2b-8753-4495-f377-297669bdf3b4"
      },
      "source": [
        "# LOAD MODEL AND CHECKPOINT FROM DRIVE\n",
        "\n",
        "from unetCGAN import unetCGAN\n",
        "checkpoint_dir = '/content/drive/MyDrive/BIOINF/checkpoints_GAN/unetCGAN' #\n",
        "\n",
        "generative_model = unetCGAN(use_residual=True)\n",
        "checkpoint = tf.train.Checkpoint(generator_optimizer=generative_model.generator_optimizer,\n",
        "                                  discriminator_optimizer=generative_model.discriminator_optimizer,\n",
        "                                  model=generative_model.model)\n",
        "\n",
        "latest = tf.train.latest_checkpoint(checkpoint_dir)\n",
        "print(latest)\n",
        "checkpoint.restore(latest)"
      ],
      "execution_count": null,
      "outputs": [
        {
          "output_type": "stream",
          "text": [
            "/content/drive/MyDrive/BIOINF/checkpoints_GAN/unetCGAN/ckpt-6\n"
          ],
          "name": "stdout"
        },
        {
          "output_type": "execute_result",
          "data": {
            "text/plain": [
              "<tensorflow.python.training.tracking.util.CheckpointLoadStatus at 0x7f3541b5b950>"
            ]
          },
          "metadata": {
            "tags": []
          },
          "execution_count": 7
        }
      ]
    },
    {
      "cell_type": "code",
      "metadata": {
        "id": "ltFz_M7YZgtK",
        "colab": {
          "base_uri": "https://localhost:8080/"
        },
        "outputId": "f3981f12-62d8-4823-975e-21a7f5352082"
      },
      "source": [
        "mean_FID_unetCGAN, std_FID_unetCGAN = FID.get_FID(generative_model=generative_model, evaluation_model=evaluation_model, real_images=real_images)\n",
        "print(\"------- unetCGAN model -------\")\n",
        "print(\"Mean FID: \", mean_FID_unetCGAN)\n",
        "print(\"STD FID: \", std_FID_unetCGAN)"
      ],
      "execution_count": null,
      "outputs": [
        {
          "output_type": "stream",
          "text": [
            "Trial  0\n",
            "FID:  86.18821451886397\n",
            "Trial  1\n",
            "FID:  90.79460855279302\n",
            "Trial  2\n",
            "FID:  92.17353351188913\n",
            "Trial  3\n",
            "FID:  90.52669365789339\n",
            "Trial  4\n",
            "FID:  89.1346439453599\n",
            "------- unetCGAN model -------\n",
            "Mean FID:  89.76353883735987\n",
            "STD FID:  2.0313560562864486\n"
          ],
          "name": "stdout"
        }
      ]
    },
    {
      "cell_type": "markdown",
      "metadata": {
        "id": "nAJfrIJ_AgZY"
      },
      "source": [
        "## AC-cGAN"
      ]
    },
    {
      "cell_type": "code",
      "metadata": {
        "colab": {
          "base_uri": "https://localhost:8080/"
        },
        "id": "wsYMF3r6AgZb",
        "outputId": "65a91714-d85a-45a8-b574-fb573ae9ab87"
      },
      "source": [
        "# LOAD MODEL AND CHECKPOINT FROM DRIVE\n",
        "\n",
        "from ACCGAN import ACCGAN\n",
        "checkpoint_dir = '/content/drive/MyDrive/BIOINF/checkpoints_GAN/AC-cGAN' #\n",
        "\n",
        "generative_model = ACCGAN(use_residual=True)\n",
        "checkpoint = tf.train.Checkpoint(generator_optimizer=generative_model.generator_optimizer,\n",
        "                                    discriminator_optimizer=generative_model.discriminator_optimizer,\n",
        "                                    model=generative_model.model)\n",
        "\n",
        "latest = tf.train.latest_checkpoint(checkpoint_dir)\n",
        "print(latest)\n",
        "checkpoint.restore(latest)"
      ],
      "execution_count": null,
      "outputs": [
        {
          "output_type": "stream",
          "text": [
            "/content/drive/MyDrive/BIOINF/checkpoints_GAN/AC-cGAN/ckpt-9\n"
          ],
          "name": "stdout"
        },
        {
          "output_type": "execute_result",
          "data": {
            "text/plain": [
              "<tensorflow.python.training.tracking.util.CheckpointLoadStatus at 0x7f888a5fc910>"
            ]
          },
          "metadata": {
            "tags": []
          },
          "execution_count": 22
        }
      ]
    },
    {
      "cell_type": "code",
      "metadata": {
        "colab": {
          "base_uri": "https://localhost:8080/"
        },
        "id": "dgTMd6gpAgZc",
        "outputId": "78d64b6c-62d1-4d57-b828-a09208066f3b"
      },
      "source": [
        "mean_FID_ACcGAN, std_FID_ACcGAN = FID.get_FID(generative_model=generative_model, evaluation_model=evaluation_model, real_images=real_images)\n",
        "print(\"------- AC-cGAN model -------\")\n",
        "print(\"Mean FID: \", mean_FID_ACcGAN)\n",
        "print(\"STD FID: \", std_FID_ACcGAN)"
      ],
      "execution_count": null,
      "outputs": [
        {
          "output_type": "stream",
          "text": [
            "Trial  0\n",
            "FID:  83.86847869529885\n",
            "Trial  1\n",
            "FID:  81.15680585908868\n",
            "Trial  2\n",
            "FID:  84.24178235976059\n",
            "Trial  3\n",
            "FID:  79.62840186942518\n",
            "Trial  4\n",
            "FID:  80.4475903731681\n",
            "------- AC-cGAN model -------\n",
            "Mean FID:  81.86861183134828\n",
            "STD FID:  1.853424734414901\n"
          ],
          "name": "stdout"
        }
      ]
    },
    {
      "cell_type": "markdown",
      "metadata": {
        "id": "V0Gzw1VIOGJr"
      },
      "source": [
        "## AC-cGAN - Min Uncertainty"
      ]
    },
    {
      "cell_type": "code",
      "metadata": {
        "colab": {
          "base_uri": "https://localhost:8080/"
        },
        "id": "6vwv34YpOGJu",
        "outputId": "67e04a60-be85-4681-a05e-76ac6cff441d"
      },
      "source": [
        "# LOAD MODEL AND CHECKPOINT FROM DRIVE\n",
        "\n",
        "from ACCGAN_Uncertainty import ACCGANUnc\n",
        "checkpoint_dir = '/content/drive/MyDrive/BIOINF/checkpoints_GAN/AC-CGAN_min_unc' #\n",
        "\n",
        "generative_model = ACCGANUnc(use_residual=True)\n",
        "checkpoint = tf.train.Checkpoint(generator_optimizer=generative_model.generator_optimizer,\n",
        "                                    discriminator_optimizer=generative_model.discriminator_optimizer,\n",
        "                                    model=generative_model.model)\n",
        "\n",
        "latest = tf.train.latest_checkpoint(checkpoint_dir)\n",
        "print(latest)\n",
        "checkpoint.restore(latest)"
      ],
      "execution_count": null,
      "outputs": [
        {
          "output_type": "stream",
          "text": [
            "/content/drive/MyDrive/BIOINF/checkpoints_GAN/AC-CGAN-uncertainty/gilberto/mcd_4_unc_weight_1_disc_min/ckpt-9\n"
          ],
          "name": "stdout"
        },
        {
          "output_type": "execute_result",
          "data": {
            "text/plain": [
              "<tensorflow.python.training.tracking.util.CheckpointLoadStatus at 0x7f8621a3f290>"
            ]
          },
          "metadata": {
            "tags": []
          },
          "execution_count": 37
        }
      ]
    },
    {
      "cell_type": "code",
      "metadata": {
        "colab": {
          "base_uri": "https://localhost:8080/"
        },
        "id": "sd4cVHllOGJv",
        "outputId": "4fb40756-de40-4cbc-da1a-1fdf111fb07d"
      },
      "source": [
        "mean_FID_ACcGAN, std_FID_ACcGAN = FID.get_FID(generative_model=generative_model, evaluation_model=evaluation_model, real_images=real_images)\n",
        "print(\"------- AC-cGAN model -------\")\n",
        "print(\"Mean FID: \", mean_FID_ACcGAN)\n",
        "print(\"STD FID: \", std_FID_ACcGAN)"
      ],
      "execution_count": null,
      "outputs": [
        {
          "output_type": "stream",
          "text": [
            "Trial  0\n",
            "FID:  87.82770999028202\n",
            "Trial  1\n",
            "FID:  91.36861491611162\n",
            "Trial  2\n",
            "FID:  90.29781190781272\n",
            "Trial  3\n",
            "FID:  90.75496794068766\n",
            "Trial  4\n",
            "FID:  88.02375760181147\n",
            "------- AC-cGAN model -------\n",
            "Mean FID:  89.65457247134108\n",
            "STD FID:  1.4532413651865255\n"
          ],
          "name": "stdout"
        }
      ]
    },
    {
      "cell_type": "markdown",
      "metadata": {
        "id": "ym25B7kwIpmr"
      },
      "source": [
        "## AC-cGAN - Max Uncertainty"
      ]
    },
    {
      "cell_type": "code",
      "metadata": {
        "colab": {
          "base_uri": "https://localhost:8080/"
        },
        "id": "yEtfMYwKIpmt",
        "outputId": "4b0f1597-8e64-4468-f89a-1240f5f69219"
      },
      "source": [
        "# LOAD MODEL AND CHECKPOINT FROM DRIVE\n",
        "\n",
        "from ACCGAN_Uncertainty import ACCGANUnc\n",
        "checkpoint_dir = '/content/drive/MyDrive/BIOINF/checkpoints_GAN/AC-cGAN_max_unc' #\n",
        "\n",
        "generative_model = ACCGANUnc(use_residual=True)\n",
        "checkpoint = tf.train.Checkpoint(generator_optimizer=generative_model.generator_optimizer,\n",
        "                                    discriminator_optimizer=generative_model.discriminator_optimizer,\n",
        "                                    model=generative_model.model)\n",
        "\n",
        "latest = tf.train.latest_checkpoint(checkpoint_dir)\n",
        "print(latest)\n",
        "checkpoint.restore(latest)"
      ],
      "execution_count": null,
      "outputs": [
        {
          "output_type": "stream",
          "text": [
            "/content/drive/MyDrive/BIOINF/checkpoints_GAN/AC-cGAN_max_unc/ckpt-11\n"
          ],
          "name": "stdout"
        },
        {
          "output_type": "execute_result",
          "data": {
            "text/plain": [
              "<tensorflow.python.training.tracking.util.CheckpointLoadStatus at 0x7f8620ff7590>"
            ]
          },
          "metadata": {
            "tags": []
          },
          "execution_count": 40
        }
      ]
    },
    {
      "cell_type": "code",
      "metadata": {
        "colab": {
          "base_uri": "https://localhost:8080/"
        },
        "id": "yPMlaEq2Ipmu",
        "outputId": "a3f8f0bb-2dcf-467c-a654-6cf7b8e788c1"
      },
      "source": [
        "mean_FID_ACcGAN, std_FID_ACcGAN = FID.get_FID(generative_model=generative_model, evaluation_model=evaluation_model, real_images=real_images)\n",
        "print(\"------- AC-cGAN model -------\")\n",
        "print(\"Mean FID: \", mean_FID_ACcGAN)\n",
        "print(\"STD FID: \", std_FID_ACcGAN)"
      ],
      "execution_count": null,
      "outputs": [
        {
          "output_type": "stream",
          "text": [
            "Trial  0\n",
            "FID:  77.25859242600411\n",
            "Trial  1\n",
            "FID:  77.34854883271191\n",
            "Trial  2\n",
            "FID:  77.30256556610719\n",
            "Trial  3\n",
            "FID:  79.64163360317278\n",
            "Trial  4\n",
            "FID:  81.16847439116702\n",
            "------- AC-cGAN model -------\n",
            "Mean FID:  78.54396296383261\n",
            "STD FID:  1.5946912508795166\n"
          ],
          "name": "stdout"
        }
      ]
    }
  ]
}